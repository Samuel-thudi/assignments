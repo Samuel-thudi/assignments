{
 "cells": [
  {
   "cell_type": "code",
   "execution_count": 76,
   "id": "bb2a304a",
   "metadata": {},
   "outputs": [],
   "source": [
    "import pandas as pd\n",
    "import numpy as np\n",
    "import matplotlib.pyplot as plt\n",
    "import sklearn.cluster as cluster\n",
    "from sklearn.preprocessing import StandardScaler\n",
    "from scipy.optimize import curve_fit\n",
    "%matplotlib inline"
   ]
  },
  {
   "cell_type": "code",
   "execution_count": 27,
   "id": "ffcc222e",
   "metadata": {
    "scrolled": true
   },
   "outputs": [],
   "source": [
    "gdp = pd.read_csv(r'gdp.csv')\n",
    "lif = pd.read_csv(r'life.csv')"
   ]
  },
  {
   "cell_type": "code",
   "execution_count": 6,
   "id": "7162c4cd",
   "metadata": {
    "scrolled": true
   },
   "outputs": [],
   "source": [
    "kmeans = cluster.KMeans(n_clusters=3)"
   ]
  },
  {
   "cell_type": "code",
   "execution_count": 30,
   "id": "4f4323ba",
   "metadata": {},
   "outputs": [],
   "source": [
    "df_80 = pd.DataFrame()\n",
    "df_80['gdp'] = gdp['1980']\n",
    "df_80['lif'] = lif['1980']\n",
    "df_80.index = gdp['Country Name']"
   ]
  },
  {
   "cell_type": "code",
   "execution_count": 41,
   "id": "f2bde2a6",
   "metadata": {},
   "outputs": [],
   "source": [
    "scaler = StandardScaler()\n",
    "scaler.fit(df_80)\n",
    "trans_df = pd.DataFrame(scaler.transform(df_80))"
   ]
  },
  {
   "cell_type": "code",
   "execution_count": 42,
   "id": "081d4fee",
   "metadata": {},
   "outputs": [
    {
     "data": {
      "text/plain": [
       "<matplotlib.collections.PathCollection at 0x228e1241910>"
      ]
     },
     "execution_count": 42,
     "metadata": {},
     "output_type": "execute_result"
    },
    {
     "data": {
      "image/png": "[encoded data removed]",
      "text/plain": [
       "<Figure size 432x288 with 1 Axes>"
      ]
     },
     "metadata": {
      "needs_background": "light"
     },
     "output_type": "display_data"
    }
   ],
   "source": [
    "plt.scatter(trans_df.iloc[:,0],trans_df.iloc[:,1])"
   ]
  },
  {
   "cell_type": "code",
   "execution_count": 45,
   "id": "c704d260",
   "metadata": {},
   "outputs": [],
   "source": [
    "trans_df.index = gdp['Country Name']"
   ]
  },
  {
   "cell_type": "code",
   "execution_count": 47,
   "id": "86a87741",
   "metadata": {},
   "outputs": [
    {
     "data": {
      "text/plain": [
       "Country Name\n",
       "Aruba                          1.068267\n",
       "Africa Eastern and Southern   -1.151495\n",
       "Afghanistan                   -1.807524\n",
       "Africa Western and Central    -1.498442\n",
       "Angola                        -1.715059\n",
       "                                 ...   \n",
       "Kosovo                              NaN\n",
       "Yemen, Rep.                   -1.284023\n",
       "South Africa                  -0.336117\n",
       "Zambia                        -0.861301\n",
       "Zimbabwe                      -0.175345\n",
       "Name: 1, Length: 266, dtype: float64"
      ]
     },
     "execution_count": 47,
     "metadata": {},
     "output_type": "execute_result"
    }
   ],
   "source": [
    "trans_df[1]"
   ]
  },
  {
   "cell_type": "code",
   "execution_count": 59,
   "id": "b222f8ef",
   "metadata": {},
   "outputs": [],
   "source": [
    "df_80.dropna(how='any',inplace=True)"
   ]
  },
  {
   "cell_type": "code",
   "execution_count": 66,
   "id": "621b30a1",
   "metadata": {},
   "outputs": [
    {
     "name": "stderr",
     "output_type": "stream",
     "text": [
      "C:\\Users\\samue\\anaconda3\\lib\\site-packages\\sklearn\\cluster\\_affinity_propagation.py:148: FutureWarning: 'random_state' has been introduced in 0.23. It will be set to None starting from 1.0 (renaming of 0.25) which means that results will differ at every function call. Set 'random_state' to None to silence this warning, or to 0 to keep the behavior of versions <0.23.\n",
      "  warnings.warn(\n"
     ]
    },
    {
     "data": {
      "image/png": "[encoded data removed]",
      "text/plain": [
       "<Figure size 360x360 with 1 Axes>"
      ]
     },
     "metadata": {
      "needs_background": "light"
     },
     "output_type": "display_data"
    }
   ],
   "source": [
    "trans_df.dropna(how='any',inplace=True)\n",
    "ap = cluster.AffinityPropagation(max_iter=2000, preference=-5)\n",
    "ap.fit(trans_df)\n",
    "\n",
    "x = df_80['gdp']\n",
    "y = df_80['lif']\n",
    "\n",
    "labels = ap.labels_\n",
    "cen = ap.cluster_centers_\n",
    "plt.figure(figsize=(5.0,5.0))\n",
    "\n",
    "for l in range(0, len(cen)):     # loop over the different labels\n",
    "    plt.plot(x[labels==l], y[labels==l], \"o\", markersize=3)\n",
    "    #print(rgb[l])\n",
    "#print(cen)    \n",
    "# show cluster centres\n",
    "#for ic in range(len(cen)):\n",
    "#    xc, yc = cen[ic,:]\n",
    "#    plt.plot(xc, yc, \"dk\", markersize=10)\n",
    "    \n",
    "plt.xlabel(\"GDP\")\n",
    "plt.ylabel(\"life expectancy\")\n",
    "plt.title('Original data 1980')\n",
    "plt.show()"
   ]
  },
  {
   "cell_type": "code",
   "execution_count": 141,
   "id": "c5db4d4b",
   "metadata": {},
   "outputs": [],
   "source": [
    "import scipy.optimize as opt\n",
    "\n",
    "\n",
    "def linfunc(x, a, b):\n",
    "    \"\"\" Function for fitting\n",
    "        x: independent variable\n",
    "        a, b: parameters to be fitted\n",
    "    \"\"\"\n",
    "    \n",
    "    y = a*x + b\n",
    "    \n",
    "    return y\n",
    "\n",
    "\n",
    "def objective(x, a, b,c,d,e,f):\n",
    "\treturn  a*x + b*x**2 + c*x**3 + d*x**4 + e*x**5 + f"
   ]
  },
  {
   "cell_type": "code",
   "execution_count": 142,
   "id": "24ee1606",
   "metadata": {},
   "outputs": [],
   "source": [
    "x = df_80['gdp']\n",
    "y = df_80['lif']\n",
    "\n",
    "popt, _ = curve_fit(objective, x, y)"
   ]
  },
  {
   "cell_type": "code",
   "execution_count": 143,
   "id": "903b5e81",
   "metadata": {},
   "outputs": [
    {
     "data": {
      "text/plain": [
       "array([ 8.20823545e-03, -1.05704864e-06,  5.93408017e-11, -1.47297978e-15,\n",
       "        1.31894301e-20,  5.01757666e+01])"
      ]
     },
     "execution_count": 143,
     "metadata": {},
     "output_type": "execute_result"
    }
   ],
   "source": [
    "popt"
   ]
  },
  {
   "cell_type": "code",
   "execution_count": 144,
   "id": "a2e4c7ff",
   "metadata": {},
   "outputs": [
    {
     "data": {
      "image/png": "[encoded data removed]",
      "text/plain": [
       "<Figure size 432x288 with 1 Axes>"
      ]
     },
     "metadata": {
      "needs_background": "light"
     },
     "output_type": "display_data"
    }
   ],
   "source": [
    "a, b, c,d,e,f= popt\n",
    "x_line = np.arange(min(x), max(x), 1)\n",
    "y_line = objective(x_line, a, b, c,d,e,f)\n",
    "ax= plt.subplot(111)\n",
    "# create a line plot for the mapping function\n",
    "ax.plot(x_line, y_line, '--', color='red')\n",
    "ax.scatter(x,y)\n",
    "plt.xlabel('GDP')\n",
    "plt.show()"
   ]
  },
  {
   "cell_type": "code",
   "execution_count": null,
   "id": "903c8c27",
   "metadata": {},
   "outputs": [],
   "source": []
  }
 ],
 "metadata": {
  "kernelspec": {
   "display_name": "Python 3 (ipykernel)",
   "language": "python",
   "name": "python3"
  },
  "language_info": {
   "codemirror_mode": {
    "name": "ipython",
    "version": 3
   },
   "file_extension": ".py",
   "mimetype": "text/x-python",
   "name": "python",
   "nbconvert_exporter": "python",
   "pygments_lexer": "ipython3",
   "version": "3.9.7"
  }
 },
 "nbformat": 4,
 "nbformat_minor": 5
}
