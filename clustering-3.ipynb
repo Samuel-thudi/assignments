{
 "cells": [
  {
   "cell_type": "code",
   "execution_count": 8,
   "id": "4f577266",
   "metadata": {},
   "outputs": [],
   "source": [
    "import pandas as pd"
   ]
  },
  {
   "cell_type": "code",
   "execution_count": 14,
   "id": "0674a3b7",
   "metadata": {
    "scrolled": true
   },
   "outputs": [],
   "source": [
    "df_gdp = pd.read_csv(r'C:\\Users\\samue\\Downloads\\world_data.csv')"
   ]
  },
  {
   "cell_type": "code",
   "execution_count": 19,
   "id": "aeab16f1",
   "metadata": {},
   "outputs": [],
   "source": [
    "df = df_gdp.drop(['Indicator Name','Indicator Code','Country Code'], axis = 1)"
   ]
  },
  {
   "cell_type": "code",
   "execution_count": 29,
   "id": "ef820175",
   "metadata": {},
   "outputs": [
    {
     "data": {
      "text/html": [
       "<div>\n",
       "<style scoped>\n",
       "    .dataframe tbody tr th:only-of-type {\n",
       "        vertical-align: middle;\n",
       "    }\n",
       "\n",
       "    .dataframe tbody tr th {\n",
       "        vertical-align: top;\n",
       "    }\n",
       "\n",
       "    .dataframe thead th {\n",
       "        text-align: right;\n",
       "    }\n",
       "</style>\n",
       "<table border=\"1\" class=\"dataframe\">\n",
       "  <thead>\n",
       "    <tr style=\"text-align: right;\">\n",
       "      <th></th>\n",
       "      <th>Country Name</th>\n",
       "      <th>1960</th>\n",
       "      <th>1961</th>\n",
       "      <th>1962</th>\n",
       "      <th>1963</th>\n",
       "      <th>1964</th>\n",
       "      <th>1965</th>\n",
       "      <th>1966</th>\n",
       "      <th>1967</th>\n",
       "      <th>1968</th>\n",
       "      <th>...</th>\n",
       "      <th>2012</th>\n",
       "      <th>2013</th>\n",
       "      <th>2014</th>\n",
       "      <th>2015</th>\n",
       "      <th>2016</th>\n",
       "      <th>2017</th>\n",
       "      <th>2018</th>\n",
       "      <th>2019</th>\n",
       "      <th>2020</th>\n",
       "      <th>2021</th>\n",
       "    </tr>\n",
       "  </thead>\n",
       "  <tbody>\n",
       "    <tr>\n",
       "      <th>0</th>\n",
       "      <td>Aruba</td>\n",
       "      <td>NaN</td>\n",
       "      <td>NaN</td>\n",
       "      <td>NaN</td>\n",
       "      <td>NaN</td>\n",
       "      <td>NaN</td>\n",
       "      <td>NaN</td>\n",
       "      <td>NaN</td>\n",
       "      <td>NaN</td>\n",
       "      <td>NaN</td>\n",
       "      <td>...</td>\n",
       "      <td>24712.49326</td>\n",
       "      <td>26441.619940</td>\n",
       "      <td>26893.011510</td>\n",
       "      <td>28396.90842</td>\n",
       "      <td>28452.170610</td>\n",
       "      <td>29350.805020</td>\n",
       "      <td>30253.279360</td>\n",
       "      <td>NaN</td>\n",
       "      <td>NaN</td>\n",
       "      <td>NaN</td>\n",
       "    </tr>\n",
       "    <tr>\n",
       "      <th>1</th>\n",
       "      <td>Africa Eastern and Southern</td>\n",
       "      <td>153.494439</td>\n",
       "      <td>152.873313</td>\n",
       "      <td>162.413188</td>\n",
       "      <td>189.50617</td>\n",
       "      <td>168.816995</td>\n",
       "      <td>187.396306</td>\n",
       "      <td>198.450501</td>\n",
       "      <td>200.001626</td>\n",
       "      <td>212.136595</td>\n",
       "      <td>...</td>\n",
       "      <td>1736.16656</td>\n",
       "      <td>1713.899299</td>\n",
       "      <td>1703.596298</td>\n",
       "      <td>1549.03794</td>\n",
       "      <td>1431.778723</td>\n",
       "      <td>1573.063386</td>\n",
       "      <td>1574.978648</td>\n",
       "      <td>1530.059177</td>\n",
       "      <td>1359.618224</td>\n",
       "      <td>NaN</td>\n",
       "    </tr>\n",
       "  </tbody>\n",
       "</table>\n",
       "<p>2 rows × 63 columns</p>\n",
       "</div>"
      ],
      "text/plain": [
       "                  Country Name        1960        1961        1962       1963  \\\n",
       "0                        Aruba         NaN         NaN         NaN        NaN   \n",
       "1  Africa Eastern and Southern  153.494439  152.873313  162.413188  189.50617   \n",
       "\n",
       "         1964        1965        1966        1967        1968  ...  \\\n",
       "0         NaN         NaN         NaN         NaN         NaN  ...   \n",
       "1  168.816995  187.396306  198.450501  200.001626  212.136595  ...   \n",
       "\n",
       "          2012          2013          2014         2015          2016  \\\n",
       "0  24712.49326  26441.619940  26893.011510  28396.90842  28452.170610   \n",
       "1   1736.16656   1713.899299   1703.596298   1549.03794   1431.778723   \n",
       "\n",
       "           2017          2018         2019         2020  2021  \n",
       "0  29350.805020  30253.279360          NaN          NaN   NaN  \n",
       "1   1573.063386   1574.978648  1530.059177  1359.618224   NaN  \n",
       "\n",
       "[2 rows x 63 columns]"
      ]
     },
     "execution_count": 29,
     "metadata": {},
     "output_type": "execute_result"
    }
   ],
   "source": [
    "df.head(2)"
   ]
  },
  {
   "cell_type": "markdown",
   "id": "b5370628",
   "metadata": {},
   "source": [
    "# standardize the values"
   ]
  },
  {
   "cell_type": "code",
   "execution_count": 35,
   "id": "0c28b6f3",
   "metadata": {},
   "outputs": [
    {
     "data": {
      "image/png": "[encoded data removed]",
      "text/plain": [
       "<Figure size 432x288 with 1 Axes>"
      ]
     },
     "metadata": {
      "needs_background": "light"
     },
     "output_type": "display_data"
    }
   ],
   "source": [
    "import matplotlib.pyplot as plt\n",
    "fig = plt.figure()\n",
    "ax1 = fig.add_subplot(111)\n",
    "\n",
    "ax1.scatter(x=df['Country Name'], y = df['1960'], s=10, c='b', marker=\"s\", label='first')\n",
    "ax1.scatter(x=df['Country Name'],y = df['2020'], s=10, c='r', marker=\"o\", label='second')\n",
    "plt.legend(loc='upper left');\n",
    "plt.show()"
   ]
  },
  {
   "cell_type": "code",
   "execution_count": null,
   "id": "174a9c49",
   "metadata": {},
   "outputs": [],
   "source": []
  }
 ],
 "metadata": {
  "kernelspec": {
   "display_name": "Python 3 (ipykernel)",
   "language": "python",
   "name": "python3"
  },
  "language_info": {
   "codemirror_mode": {
    "name": "ipython",
    "version": 3
   },
   "file_extension": ".py",
   "mimetype": "text/x-python",
   "name": "python",
   "nbconvert_exporter": "python",
   "pygments_lexer": "ipython3",
   "version": "3.9.7"
  }
 },
 "nbformat": 4,
 "nbformat_minor": 5
}
