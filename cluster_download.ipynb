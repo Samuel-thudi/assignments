{
 "cells": [
  {
   "cell_type": "markdown",
   "id": "8ae87476",
   "metadata": {},
   "source": [
    "# Clustering \n",
    "## Concepts\n",
    "\n",
    "One often finds clusters in nature and datasets\n",
    "- subsets which are similar to each other\n",
    "- and dissimilar to others\n",
    "\n",
    "Examples\n",
    "\n",
    "![south England](london_lights_2012087.jpg)\n",
    "\n",
    "Night lights in southern England\n",
    "\n",
    "![double open cluster](DoubleCluster_h_chi_per.jpg)\n",
    "\n",
    "Double open cluster h and $\\chi$ Perseii\n",
    "\n",
    "![age_vs_matches](football_cluster.png)\n",
    "\n",
    "Ages vs. football matches visited.\n",
    "\n",
    "- Humans are quite good at identifying clusters\n",
    "- Identifying clusters in data science is an important tool.\n",
    "    - Identifying clusters of consumers with similar attributes can be used to bombard them \n",
    "      with targeted advertising\n",
    "    - Groups with certain health risks could be identified and advised to see a doctor.\n",
    "- A number of clustering algorithms exist each one with pros and cons\n",
    "\n",
    "First let's generate a sample with known cluster properties in $(x,y)$ space.\n"
   ]
  },
  {
   "cell_type": "code",
   "execution_count": null,
   "id": "c4914886",
   "metadata": {},
   "outputs": [],
   "source": [
    "import sklearn.datasets as skdat\n",
    "import numpy as np\n",
    "\n",
    "import matplotlib.pyplot as plt\n",
    "%matplotlib inline\n",
    "\n",
    "# define centres of three clusters\n",
    "centres = [[-1., 0.], [1., -0.5], [0., 1.]]\n",
    "\n",
    "# use make_blobs function to create dataset. \n",
    "# Points are normal distributed around the centres.\n",
    "xy, nclust = skdat.make_blobs(1000, centers=centres, cluster_std=0.3)"
   ]
  },
  {
   "cell_type": "markdown",
   "id": "404721f6",
   "metadata": {},
   "source": [
    "What did we get?"
   ]
  },
  {
   "cell_type": "code",
   "execution_count": null,
   "id": "569d3ee0",
   "metadata": {},
   "outputs": [],
   "source": [
    "for coor, iclust in zip (xy, nclust):\n",
    "    print(coor, iclust)"
   ]
  },
  {
   "cell_type": "code",
   "execution_count": null,
   "id": "52ea52a5",
   "metadata": {},
   "outputs": [],
   "source": [
    "x = xy[:,0]   # extract x and y vectors\n",
    "y = xy[:,1]\n",
    "\n",
    "# What did we get?\n",
    "plt.figure()\n",
    "plt.plot(x, y, \"o\", markersize=3)\n",
    "plt.xlabel(\"x\")\n",
    "plt.ylabel(\"y\")\n",
    "plt.show()"
   ]
  },
  {
   "cell_type": "code",
   "execution_count": null,
   "id": "894f0140",
   "metadata": {},
   "outputs": [],
   "source": [
    "# cluster by cluster\n",
    "plt.figure(figsize=(5.0, 5.0))\n",
    "\n",
    "plt.plot(x[nclust==0], y[nclust==0], \"o\", markersize=3)\n",
    "plt.plot(x[nclust==1], y[nclust==1], \"o\", markersize=3)\n",
    "plt.plot(x[nclust==2], y[nclust==2], \"o\", markersize=3)\n",
    "\n",
    "plt.xlabel(\"x\")\n",
    "plt.ylabel(\"y\")\n",
    "plt.show()"
   ]
  },
  {
   "cell_type": "markdown",
   "id": "e9fc4a05",
   "metadata": {},
   "source": [
    "## Clustering algorithms\n",
    "### k-means\n",
    "\n",
    "- k-means attempts to partition the samples into k clusters.\n",
    "- k is given\n",
    "- We'll get a set of cluster centres $\\mathbf{S} = {S_1, S_2, S_3, \\ldots S_k}$ each having coordinates $(S_{1,x}, S_{2,y})$\n",
    "- One needs to measure the distance to the cluster centre. Usually the suqares of the Euklidian distance in vector space is used $(\\mathbf{X} - \\mathbf{S_i})^2$\n",
    "- The minimisation problem:  $\\min \\sum_{i=1}^k \\sum_{X \\in S_i} (X-S_i)^2$ with $S_i$ begin the vector average over $X \\in S_i$\n",
    "- This is an iterative process\n",
    "\n",
    "Implementation:\n",
    "- visualise the data\n",
    "- guess the number of clusters\n",
    "- set-up the clusterer\n",
    "- run the algorithm\n",
    "- visualise and verify result\n",
    "- possibly try another number of clusters\n"
   ]
  },
  {
   "cell_type": "code",
   "execution_count": null,
   "id": "fc1a0bf2",
   "metadata": {},
   "outputs": [],
   "source": [
    "# from sklearn import cluster\n",
    "import sklearn.cluster as cluster\n",
    "\n",
    "# set up the clusterer, 3 expected clusters\n",
    "kmeans = cluster.KMeans(n_clusters=3)\n",
    "\n",
    "# Fit the data, results are stored in the kmeans object\n",
    "kmeans.fit(xy)     # fit done on x,y pairs\n",
    "\n",
    "labels = kmeans.labels_\n",
    "print(labels)    # labels is the number of the associated clusters of (x,y) points\n",
    "\n",
    "# extract the estimated cluster centres\n",
    "cen = kmeans.cluster_centers_\n",
    "print(cen)\n",
    "\n",
    "# plot using the labels to select colour\n",
    "plt.figure(figsize=(5.0,5.0))\n",
    "\n",
    "col = [\"blue\", \"red\", \"green\"]\n",
    "for l in range(0,3):     # loop over the different labels\n",
    "    plt.plot(x[labels==l], y[labels==l], \"o\", markersize=3, color=col[l])\n",
    "    \n",
    "# show cluster centres\n",
    "for ic in range(3):\n",
    "    xc, yc = cen[ic,:]\n",
    "    plt.plot(xc, yc, \"dk\", markersize=10)\n",
    "    \n",
    "plt.xlabel(\"x\")\n",
    "plt.ylabel(\"y\")\n",
    "plt.show()"
   ]
  },
  {
   "cell_type": "markdown",
   "id": "2ec889b4",
   "metadata": {},
   "source": [
    "Once we have fit (or trained) the clusterer cluster membership of new points can be tested"
   ]
  },
  {
   "cell_type": "code",
   "execution_count": null,
   "id": "55869a0d",
   "metadata": {},
   "outputs": [],
   "source": [
    "print(kmeans.predict([[0.5, 0.5]]))"
   ]
  },
  {
   "cell_type": "markdown",
   "id": "6e473d91",
   "metadata": {},
   "source": [
    "### Affinity propagation\n",
    "\n",
    "- Affinity propagation uses the concept of *exemplars*\n",
    "- It can determine the number of clusters on its own\n",
    "- Consider a function $s$ quantifying the *similarity* between two points\n",
    "- If $s(X_i, X_j) > s(X_i, X_k)$ then $X_i$ is more similar to $X_j$ then to $X_k$.\n",
    "- Often used: the negative Euklidean distance is used to measure similarity $s(X_i, X_j) = -(X_i -X_j)^2$\n",
    "\n",
    "The algorithm works by \"passing\" messenges between points.\n",
    "- A response matrix **R** is set up with values of $R_{ik} = s(X_i, X_k)$\n",
    "- An availability matrix matrix **A** describes how appropriate it would be for $X_i$ to pick $X_k$ as exmplar relative to all the other points\n",
    "\n",
    "Iteration over two steps\n",
    "1. First **R** is updated\n",
    "\n",
    "$R_{ik} = s(X_i, X_k) - \\max_{k\\ne k'}(A_{ik} +s(X_i, X'_k))$\n",
    "\n",
    "2. Followed by an update of **A**\n",
    "\n",
    "$A_{ik} = min_{i\\ne k}\\left(0, R_{ik} + \\sum_{i' \\ne k}max(0, R_{i'k}\\right)$\n",
    "\n",
    "After a number of iterations we can identify *examplars*, i.e. representatives of a cluster using the criterion.\n",
    "\n",
    "$R_{ik} + A_{ik} > 0$\n",
    "\n",
    "This can be after a fixed number of iterations or when the process stops.\n",
    "\n",
    "Defineing a criterion matrix **C** = **A** + **R** we can group together rows that share the same exemplar - defined as the column with the highest criterion value.\n",
    "\n",
    "The implementation"
   ]
  },
  {
   "cell_type": "code",
   "execution_count": null,
   "id": "a84fb68d",
   "metadata": {},
   "outputs": [],
   "source": [
    "def make_colours():\n",
    "    \"\"\" Creates a set of RGB representation of clusters. R, G,, B values are set in \n",
    "    steps of 0.25 and than all combinations of them are produced and returned as a list of\n",
    "    tuples. \"\"\"\n",
    "    \n",
    "    import itertools as iter\n",
    "    \n",
    "    r = (0.00, 0.35, 0.70)\n",
    "    # g and b values are shifted to have more variation for the first 10-20 sets.\n",
    "    g = (0.35, 0.70, 0.00)\n",
    "    b = (0.70, 0.00, 0.35)\n",
    "    \n",
    "    # produce all combinations\n",
    "    rgb = list(iter.product(r, g, b))\n",
    "    \n",
    "    return rgb"
   ]
  },
  {
   "cell_type": "code",
   "execution_count": null,
   "id": "5298fffa",
   "metadata": {},
   "outputs": [],
   "source": [
    "rgb = make_colours()\n",
    "print(rgb)"
   ]
  },
  {
   "cell_type": "code",
   "execution_count": null,
   "id": "034f1165",
   "metadata": {},
   "outputs": [],
   "source": [
    "xy, nclust = skdat.make_blobs(100, centers=centres, cluster_std=0.3)\n",
    "\n",
    "x = xy[:,0]   # extract x and y vectors\n",
    "y = xy[:,1]\n",
    "\n",
    "# cluster by cluster\n",
    "plt.figure(figsize=(5.0, 5.0))\n",
    "\n",
    "plt.plot(x[nclust==0], y[nclust==0], \"o\", markersize=3)\n",
    "plt.plot(x[nclust==1], y[nclust==1], \"o\", markersize=3)\n",
    "plt.plot(x[nclust==2], y[nclust==2], \"o\", markersize=3)\n",
    "\n",
    "plt.xlabel(\"x\")\n",
    "plt.ylabel(\"y\")\n",
    "plt.show()"
   ]
  },
  {
   "cell_type": "code",
   "execution_count": null,
   "id": "240542ce",
   "metadata": {},
   "outputs": [],
   "source": [
    "# set up the clusterer\n",
    "ap = cluster.AffinityPropagation(max_iter=2000, preference=-5)\n",
    "# preference=-5  Preferences for each point - points with larger values of preferences are more \n",
    "# likely to be chosen as exemplars. Influences the number of clusters\n",
    "\n",
    "# runnig it\n",
    "ap.fit(xy)\n",
    "\n",
    "labels = ap.labels_\n",
    "cen = ap.cluster_centers_\n",
    "# extract labels and centres\n",
    "print(\"number of iterations\", ap.n_iter_)\n",
    "print(\"number of cluster centres\", len(cen))\n",
    "\n",
    "print(cen)\n",
    "# plot using the labels to select colour\n",
    "plt.figure(figsize=(5.0,5.0))\n",
    "print(len(cen))\n",
    "col = [\"blue\", \"red\", \"green\"]\n",
    "for l in range(0, len(cen)):     # loop over the different labels\n",
    "    plt.plot(x[labels==l], y[labels==l], \"o\", markersize=3, color=rgb[l])\n",
    "    print(rgb[l])\n",
    "print(cen)    \n",
    "# show cluster centres\n",
    "for ic in range(len(cen)):\n",
    "    xc, yc = cen[ic,:]\n",
    "    plt.plot(xc, yc, \"dk\", markersize=10)\n",
    "    \n",
    "plt.xlabel(\"x\")\n",
    "plt.ylabel(\"y\")\n",
    "plt.show()"
   ]
  },
  {
   "cell_type": "markdown",
   "id": "0cdfbf01",
   "metadata": {},
   "source": [
    "### Agglomerative clustering\n",
    "\n",
    "Type of *hierachical* clustering\n",
    "\n",
    "- at first every point belongs to its own cluster - n clusters\n",
    "- building up clusters by points being close together using some similarity measure $s$, often used $s(X_i, X_j) = -(X_i -X_j)^2$\n",
    "- clustering clusters together\n",
    "- clustering clusters of clusters together\n",
    "- continue until complete hierachy has been build up.\n",
    "- the number of clusters needs to be defined\n",
    "\n",
    "![Hierachial clustering](hierachical_clustering.jpg)\n",
    "\n",
    "Implementation"
   ]
  },
  {
   "cell_type": "code",
   "execution_count": null,
   "id": "2885aac0",
   "metadata": {},
   "outputs": [],
   "source": [
    "xy, nclust = skdat.make_blobs(1000, centers=centres, cluster_std=0.3)\n",
    "\n",
    "x = xy[:,0]   # extract x and y vectors\n",
    "y = xy[:,1]\n",
    "\n",
    "# cluster by cluster\n",
    "plt.figure(figsize=(5.0, 5.0))\n",
    "\n",
    "plt.plot(x[nclust==0], y[nclust==0], \"o\", markersize=3)\n",
    "plt.plot(x[nclust==1], y[nclust==1], \"o\", markersize=3)\n",
    "plt.plot(x[nclust==2], y[nclust==2], \"o\", markersize=3)\n",
    "\n",
    "plt.xlabel(\"x\")\n",
    "plt.ylabel(\"y\")\n",
    "plt.show()"
   ]
  },
  {
   "cell_type": "code",
   "execution_count": null,
   "id": "dd8d727b",
   "metadata": {},
   "outputs": [],
   "source": [
    "# set up the clusterer\n",
    "ac = cluster.AgglomerativeClustering(n_clusters=3)\n",
    "\n",
    "# carry out the fitting\n",
    "ac.fit(xy)\n",
    "\n",
    "labels = ac.labels_\n",
    "\n",
    "# The clusterer does not return cluster centres, but they are easily computed\n",
    "xcen = []\n",
    "ycen = []\n",
    "for ic in range(3):\n",
    "    xc = np.average(x[labels==ic])\n",
    "    yc = np.average(y[labels==ic])\n",
    "    xcen.append(xc)\n",
    "    ycen.append(yc)\n",
    "print(xcen)\n",
    "\n",
    "# plot using the labels to select colour\n",
    "plt.figure(figsize=(5.0,5.0))\n",
    "\n",
    "col = [\"blue\", \"red\", \"green\"]\n",
    "for l in range(0,3):     # loop over the different labels\n",
    "    plt.plot(x[labels==l], y[labels==l], \"o\", markersize=3, color=col[l])\n",
    "    \n",
    "# show cluster centres\n",
    "for ic in range(3):\n",
    "    plt.plot(xcen[ic], ycen[ic], \"dk\", markersize=10)\n",
    "    \n",
    "plt.xlabel(\"x\")\n",
    "plt.ylabel(\"y\")\n",
    "plt.show()"
   ]
  },
  {
   "cell_type": "code",
   "execution_count": null,
   "id": "f43ee72d",
   "metadata": {},
   "outputs": [],
   "source": []
  },
  {
   "cell_type": "markdown",
   "id": "949dccf5",
   "metadata": {},
   "source": [
    "# Extracting data from the web\n",
    "\n"
   ]
  },
  {
   "cell_type": "code",
   "execution_count": null,
   "id": "9eda275c",
   "metadata": {},
   "outputs": [],
   "source": [
    "import pandas as pd\n",
    "\n",
    "# URL for FTSE100 constituents\n",
    "url = \"https://www.londonstockexchange.com/indices/ftse-100/constituents/table\"\n",
    "\n",
    "page_ftse100 = pd.read_html(url)"
   ]
  },
  {
   "cell_type": "markdown",
   "id": "529b347c",
   "metadata": {},
   "source": [
    "What did we get?"
   ]
  },
  {
   "cell_type": "code",
   "execution_count": null,
   "id": "35fd5dd1",
   "metadata": {},
   "outputs": [],
   "source": [
    "print(page_ftse100)"
   ]
  },
  {
   "cell_type": "markdown",
   "id": "522d7e46",
   "metadata": {},
   "source": [
    "This is a list. Simple extraction of a dataframe"
   ]
  },
  {
   "cell_type": "code",
   "execution_count": null,
   "id": "04e0bbec",
   "metadata": {},
   "outputs": [],
   "source": [
    "df_ftse100 = page_ftse100[0]\n",
    "print(df_ftse100.columns)\n",
    "print(df_ftse100.describe())"
   ]
  },
  {
   "cell_type": "code",
   "execution_count": null,
   "id": "c3c824fe",
   "metadata": {},
   "outputs": [],
   "source": [
    "# second page\n",
    "url = \"https://www.londonstockexchange.com/indices/ftse-100/constituents/table?page=2\"\n",
    "\n",
    "page_ftse = pd.read_html(url)\n",
    "df_ftse100b = page_ftse[0]\n",
    "\n",
    "df_ftse100 = pd.concat([df_ftse100, df_ftse100b])\n",
    "print(df_ftse100.describe())"
   ]
  },
  {
   "cell_type": "markdown",
   "id": "e13dc1f4",
   "metadata": {},
   "source": [
    "What happens when more than one table appears?"
   ]
  },
  {
   "cell_type": "code",
   "execution_count": null,
   "id": "0355b85f",
   "metadata": {},
   "outputs": [],
   "source": [
    "url = \"https://en.wikipedia.org/wiki/Germany\"\n",
    "page_germ = pd.read_html(url)"
   ]
  },
  {
   "cell_type": "code",
   "execution_count": null,
   "id": "a990bced",
   "metadata": {},
   "outputs": [],
   "source": [
    "print(len(page_germ))\n",
    "df = page_germ[2]\n",
    "print(df)"
   ]
  },
  {
   "cell_type": "markdown",
   "id": "5fcf9f01",
   "metadata": {},
   "source": [
    "Downloading and reading files from the web."
   ]
  },
  {
   "cell_type": "code",
   "execution_count": null,
   "id": "feb410e5",
   "metadata": {},
   "outputs": [],
   "source": [
    "url = \"https://www.metoffice.gov.uk/pub/data/weather/uk/climate/stationdata/heathrowdata.txt\"\n",
    "\n",
    "df_heathrow = pd.read_csv(url)"
   ]
  },
  {
   "cell_type": "code",
   "execution_count": null,
   "id": "69b8d55d",
   "metadata": {},
   "outputs": [],
   "source": [
    "import requests as req\n",
    "\n",
    "r_heathrow = req.get(url)\n",
    "data = r_heathrow.text\n",
    "print(data[0:1000])"
   ]
  },
  {
   "cell_type": "code",
   "execution_count": null,
   "id": "33d46fdd",
   "metadata": {},
   "outputs": [],
   "source": [
    "import requests\n",
    "import pandas as pd\n",
    "import io\n",
    "\n",
    "r_data = requests.get(url).content\n",
    "df = pd.read_csv(io.StringIO(r_data.decode('utf-8')))"
   ]
  },
  {
   "cell_type": "code",
   "execution_count": null,
   "id": "ee65a4cf",
   "metadata": {},
   "outputs": [],
   "source": [
    "print(df)"
   ]
  },
  {
   "cell_type": "code",
   "execution_count": null,
   "id": "ca9ff46b",
   "metadata": {},
   "outputs": [],
   "source": []
  }
 ],
 "metadata": {
  "kernelspec": {
   "display_name": "Python 3 (ipykernel)",
   "language": "python",
   "name": "python3"
  },
  "language_info": {
   "codemirror_mode": {
    "name": "ipython",
    "version": 3
   },
   "file_extension": ".py",
   "mimetype": "text/x-python",
   "name": "python",
   "nbconvert_exporter": "python",
   "pygments_lexer": "ipython3",
   "version": "3.9.7"
  },
  "name": "_merged"
 },
 "nbformat": 4,
 "nbformat_minor": 5
}
